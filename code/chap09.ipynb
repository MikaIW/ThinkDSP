{
 "metadata": {
  "name": "",
  "signature": "sha256:5113f70b8aa6e85b88c9d00136f34e4a46fc674793c44859a6efde872a3a8c88"
 },
 "nbformat": 3,
 "nbformat_minor": 0,
 "worksheets": [
  {
   "cells": [
    {
     "cell_type": "markdown",
     "metadata": {},
     "source": [
      "ThinkDSP, by Allen Downey (think-dsp.com)\n",
      "\n",
      "This notebook contains code examples from Chapter "
     ]
    },
    {
     "cell_type": "code",
     "collapsed": false,
     "input": [
      "from __future__ import print_function, division\n",
      "\n",
      "import thinkdsp\n",
      "import thinkplot\n",
      "import thinkstats2\n",
      "import math\n",
      "import numpy\n",
      "import pandas\n",
      "import scipy.signal\n",
      "\n",
      "PI2 = 2 * math.pi\n",
      "\n",
      "%precision 3\n",
      "%matplotlib inline"
     ],
     "language": "python",
     "metadata": {},
     "outputs": [],
     "prompt_number": 1
    },
    {
     "cell_type": "code",
     "collapsed": false,
     "input": [
      "df = pandas.read_csv('coindesk-bpi-USD-close_data-2015-02-08_2015-02-09.csv', nrows=1625, parse_dates=[0])\n",
      "ys = df.Close.values"
     ],
     "language": "python",
     "metadata": {},
     "outputs": [
      {
       "ename": "AttributeError",
       "evalue": "'DataFrame' object has no attribute 'Close'",
       "output_type": "pyerr",
       "traceback": [
        "\u001b[1;31m---------------------------------------------------------------------------\u001b[0m\n\u001b[1;31mAttributeError\u001b[0m                            Traceback (most recent call last)",
        "\u001b[1;32m<ipython-input-2-ee269c15f11e>\u001b[0m in \u001b[0;36m<module>\u001b[1;34m()\u001b[0m\n\u001b[0;32m      1\u001b[0m \u001b[0mdf\u001b[0m \u001b[1;33m=\u001b[0m \u001b[0mpandas\u001b[0m\u001b[1;33m.\u001b[0m\u001b[0mread_csv\u001b[0m\u001b[1;33m(\u001b[0m\u001b[1;34m'coindesk-bpi-USD-close_data-2015-02-08_2015-02-09.csv'\u001b[0m\u001b[1;33m,\u001b[0m \u001b[0mnrows\u001b[0m\u001b[1;33m=\u001b[0m\u001b[1;36m1625\u001b[0m\u001b[1;33m,\u001b[0m \u001b[0mparse_dates\u001b[0m\u001b[1;33m=\u001b[0m\u001b[1;33m[\u001b[0m\u001b[1;36m0\u001b[0m\u001b[1;33m]\u001b[0m\u001b[1;33m)\u001b[0m\u001b[1;33m\u001b[0m\u001b[0m\n\u001b[1;32m----> 2\u001b[1;33m \u001b[0mys\u001b[0m \u001b[1;33m=\u001b[0m \u001b[0mdf\u001b[0m\u001b[1;33m.\u001b[0m\u001b[0mClose\u001b[0m\u001b[1;33m.\u001b[0m\u001b[0mvalues\u001b[0m\u001b[1;33m\u001b[0m\u001b[0m\n\u001b[0m",
        "\u001b[1;32m/home/mwelches/anaconda/lib/python2.7/site-packages/pandas/core/generic.pyc\u001b[0m in \u001b[0;36m__getattr__\u001b[1;34m(self, name)\u001b[0m\n\u001b[0;32m   1841\u001b[0m                 \u001b[1;32mreturn\u001b[0m \u001b[0mself\u001b[0m\u001b[1;33m[\u001b[0m\u001b[0mname\u001b[0m\u001b[1;33m]\u001b[0m\u001b[1;33m\u001b[0m\u001b[0m\n\u001b[0;32m   1842\u001b[0m             raise AttributeError(\"'%s' object has no attribute '%s'\" %\n\u001b[1;32m-> 1843\u001b[1;33m                                  (type(self).__name__, name))\n\u001b[0m\u001b[0;32m   1844\u001b[0m \u001b[1;33m\u001b[0m\u001b[0m\n\u001b[0;32m   1845\u001b[0m     \u001b[1;32mdef\u001b[0m \u001b[0m__setattr__\u001b[0m\u001b[1;33m(\u001b[0m\u001b[0mself\u001b[0m\u001b[1;33m,\u001b[0m \u001b[0mname\u001b[0m\u001b[1;33m,\u001b[0m \u001b[0mvalue\u001b[0m\u001b[1;33m)\u001b[0m\u001b[1;33m:\u001b[0m\u001b[1;33m\u001b[0m\u001b[0m\n",
        "\u001b[1;31mAttributeError\u001b[0m: 'DataFrame' object has no attribute 'Close'"
       ]
      }
     ],
     "prompt_number": 2
    },
    {
     "cell_type": "code",
     "collapsed": false,
     "input": [
      "wave = thinkdsp.Wave(ys, framerate=1)\n",
      "wave.plot()"
     ],
     "language": "python",
     "metadata": {},
     "outputs": []
    },
    {
     "cell_type": "code",
     "collapsed": false,
     "input": [
      "spectrum = wave.make_spectrum()\n",
      "spectrum.plot()\n",
      "thinkplot.config(xscale='log', yscale='log', legend=False)"
     ],
     "language": "python",
     "metadata": {},
     "outputs": []
    },
    {
     "cell_type": "code",
     "collapsed": false,
     "input": [
      "spectrum.estimate_slope()"
     ],
     "language": "python",
     "metadata": {},
     "outputs": []
    },
    {
     "cell_type": "code",
     "collapsed": false,
     "input": [
      "diff = numpy.diff(ys)\n",
      "wave2 = thinkdsp.Wave(diff, framerate=1)\n",
      "wave2.plot()"
     ],
     "language": "python",
     "metadata": {},
     "outputs": []
    },
    {
     "cell_type": "code",
     "collapsed": false,
     "input": [
      "spectrum2 = wave2.make_spectrum()\n",
      "spectrum2.plot()"
     ],
     "language": "python",
     "metadata": {},
     "outputs": []
    },
    {
     "cell_type": "code",
     "collapsed": false,
     "input": [
      "spectrum2.plot()\n",
      "thinkplot.config(xscale='log', yscale='log', legend=False)"
     ],
     "language": "python",
     "metadata": {},
     "outputs": []
    },
    {
     "cell_type": "code",
     "collapsed": false,
     "input": [
      "spectrum2.estimate_slope()"
     ],
     "language": "python",
     "metadata": {},
     "outputs": []
    },
    {
     "cell_type": "code",
     "collapsed": false,
     "input": [
      "amps = spectrum.amps\n",
      "amps2 = spectrum2.amps\n",
      "\n",
      "n = min(len(amps), len(amps2))\n",
      "ratio = amps2[:n] / amps[:n]\n",
      "\n",
      "thinkplot.plot(ratio)"
     ],
     "language": "python",
     "metadata": {},
     "outputs": []
    },
    {
     "cell_type": "code",
     "collapsed": false,
     "input": [
      "window = numpy.array([1.0, -1.0])"
     ],
     "language": "python",
     "metadata": {},
     "outputs": []
    },
    {
     "cell_type": "code",
     "collapsed": false,
     "input": [
      "ys = scipy.signal.convolve(wave.ys, window, mode='valid')\n",
      "diff = thinkdsp.Wave(ys, framerate=1)\n",
      "diff.plot()"
     ],
     "language": "python",
     "metadata": {},
     "outputs": []
    },
    {
     "cell_type": "code",
     "collapsed": false,
     "input": [
      "def zero_pad(array, n):\n",
      "    res = numpy.zeros(n)\n",
      "    res[:len(array)] = array\n",
      "    return res"
     ],
     "language": "python",
     "metadata": {},
     "outputs": []
    },
    {
     "cell_type": "code",
     "collapsed": false,
     "input": [
      "window = numpy.array([1.0, -1.0])\n",
      "window2 = numpy.array([-1, 4, -3]) / 2.0\n",
      "\n",
      "padded = zero_pad(window, len(wave))"
     ],
     "language": "python",
     "metadata": {},
     "outputs": []
    },
    {
     "cell_type": "code",
     "collapsed": false,
     "input": [
      "fft_window = numpy.fft.rfft(padded)\n",
      "thinkplot.plot(abs(fft_window))"
     ],
     "language": "python",
     "metadata": {},
     "outputs": []
    },
    {
     "cell_type": "code",
     "collapsed": false,
     "input": [
      "thinkplot.plot(ratio, color='gray')\n",
      "thinkplot.plot(abs(fft_window))\n",
      "thinkplot.config(ylim=[0, 4])"
     ],
     "language": "python",
     "metadata": {},
     "outputs": []
    },
    {
     "cell_type": "code",
     "collapsed": false,
     "input": [
      "spectrum3 = wave.make_spectrum()\n",
      "i = complex(0, 1)\n",
      "filtr = PI2 * i * spectrum3.fs\n",
      "spectrum3.hs *= filtr\n",
      "spectrum3.plot()"
     ],
     "language": "python",
     "metadata": {},
     "outputs": []
    },
    {
     "cell_type": "code",
     "collapsed": false,
     "input": [
      "wave3 = spectrum3.make_wave()\n",
      "wave2.plot(color='0.7')\n",
      "wave3.plot()"
     ],
     "language": "python",
     "metadata": {},
     "outputs": []
    },
    {
     "cell_type": "code",
     "collapsed": false,
     "input": [
      "amps = spectrum.amps\n",
      "amps3 = spectrum3.amps\n",
      "ratio3 = amps3 / amps\n",
      "thinkplot.plot(abs(fft_window))\n",
      "thinkplot.plot(ratio3)"
     ],
     "language": "python",
     "metadata": {},
     "outputs": []
    },
    {
     "cell_type": "code",
     "collapsed": false,
     "input": [
      "response = thinkdsp.read_wave('180961__kleeb__gunshots.wav')\n",
      "response = response.segment(start=0.26, duration=5.0)\n",
      "response.normalize()\n",
      "response.plot()\n",
      "thinkplot.config(ylim=[-1.05, 1.05])"
     ],
     "language": "python",
     "metadata": {},
     "outputs": []
    },
    {
     "cell_type": "code",
     "collapsed": false,
     "input": [
      "response.make_audio()"
     ],
     "language": "python",
     "metadata": {},
     "outputs": []
    },
    {
     "cell_type": "code",
     "collapsed": false,
     "input": [
      "transfer = response.make_spectrum()\n",
      "transfer.plot()"
     ],
     "language": "python",
     "metadata": {},
     "outputs": []
    },
    {
     "cell_type": "code",
     "collapsed": false,
     "input": [
      "transfer.plot()\n",
      "thinkplot.config(xscale='log', yscale='log')"
     ],
     "language": "python",
     "metadata": {},
     "outputs": []
    },
    {
     "cell_type": "code",
     "collapsed": false,
     "input": [
      "violin = thinkdsp.read_wave('92002__jcveliz__violin-origional.wav')\n",
      "violin.ys = violin.ys[:len(response)]\n",
      "violin.normalize()\n",
      "violin.plot()\n",
      "thinkplot.config(ylim=[-1.05, 1.05])"
     ],
     "language": "python",
     "metadata": {},
     "outputs": []
    },
    {
     "cell_type": "code",
     "collapsed": false,
     "input": [
      "violin.make_audio()"
     ],
     "language": "python",
     "metadata": {},
     "outputs": []
    },
    {
     "cell_type": "code",
     "collapsed": false,
     "input": [],
     "language": "python",
     "metadata": {},
     "outputs": []
    },
    {
     "cell_type": "code",
     "collapsed": false,
     "input": [
      "spectrum = violin.make_spectrum()"
     ],
     "language": "python",
     "metadata": {},
     "outputs": []
    },
    {
     "cell_type": "code",
     "collapsed": false,
     "input": [
      "len(spectrum.hs), len(transfer.hs)"
     ],
     "language": "python",
     "metadata": {},
     "outputs": []
    },
    {
     "cell_type": "code",
     "collapsed": false,
     "input": [
      "output = (spectrum * transfer).make_wave()\n",
      "output.normalize()"
     ],
     "language": "python",
     "metadata": {},
     "outputs": []
    },
    {
     "cell_type": "code",
     "collapsed": false,
     "input": [
      "violin.plot()\n",
      "output.plot()"
     ],
     "language": "python",
     "metadata": {},
     "outputs": []
    },
    {
     "cell_type": "code",
     "collapsed": false,
     "input": [
      "output.make_audio()"
     ],
     "language": "python",
     "metadata": {},
     "outputs": []
    },
    {
     "cell_type": "code",
     "collapsed": false,
     "input": [
      "def shifted_scaled(wave, shift, factor):\n",
      "    res = wave.copy()\n",
      "    res.shift(shift)\n",
      "    res.scale(factor)\n",
      "    return res"
     ],
     "language": "python",
     "metadata": {},
     "outputs": []
    },
    {
     "cell_type": "code",
     "collapsed": false,
     "input": [
      "dt = 1\n",
      "shift = dt * response.framerate\n",
      "factor = 0.5\n",
      "\n",
      "response2 = response + shifted_scaled(response, shift, factor)\n",
      "response2.plot()\n",
      "thinkplot.config(xlabel='time (s)', ylabel='amplitude', ylim=[-1.05, 1.05])"
     ],
     "language": "python",
     "metadata": {},
     "outputs": []
    },
    {
     "cell_type": "code",
     "collapsed": false,
     "input": [
      "response2.make_audio()"
     ],
     "language": "python",
     "metadata": {},
     "outputs": []
    },
    {
     "cell_type": "code",
     "collapsed": false,
     "input": [
      "total = 0\n",
      "for j in range(100):\n",
      "    total += shifted_scaled(response, j*100, 1.0)\n",
      "total.normalize()"
     ],
     "language": "python",
     "metadata": {},
     "outputs": []
    },
    {
     "cell_type": "code",
     "collapsed": false,
     "input": [
      "total.make_audio()"
     ],
     "language": "python",
     "metadata": {},
     "outputs": []
    },
    {
     "cell_type": "code",
     "collapsed": false,
     "input": [
      "total.make_spectrum().plot(high=8000)"
     ],
     "language": "python",
     "metadata": {},
     "outputs": []
    },
    {
     "cell_type": "code",
     "collapsed": false,
     "input": [
      "sawtooth = thinkdsp.SawtoothSignal(freq=410).make_wave(duration=0.2, framerate=response.framerate)\n",
      "sawtooth.plot()\n",
      "thinkplot.config(xlabel='time (s)', ylabel='amplitude', ylim=[-1.05, 1.05])"
     ],
     "language": "python",
     "metadata": {},
     "outputs": []
    },
    {
     "cell_type": "code",
     "collapsed": false,
     "input": [
      "sawtooth.make_audio()"
     ],
     "language": "python",
     "metadata": {},
     "outputs": []
    },
    {
     "cell_type": "code",
     "collapsed": false,
     "input": [
      "total = 0\n",
      "for j, y in enumerate(sawtooth.ys):\n",
      "    total += shifted_scaled(response, j, y)\n",
      "total.normalize()"
     ],
     "language": "python",
     "metadata": {},
     "outputs": []
    },
    {
     "cell_type": "code",
     "collapsed": false,
     "input": [
      "total.plot()\n",
      "thinkplot.config(xlabel='time (s)', ylabel='amplitude', ylim=[-1.05, 1.05])"
     ],
     "language": "python",
     "metadata": {},
     "outputs": []
    },
    {
     "cell_type": "code",
     "collapsed": false,
     "input": [
      "total.make_audio()"
     ],
     "language": "python",
     "metadata": {},
     "outputs": []
    },
    {
     "cell_type": "code",
     "collapsed": false,
     "input": [
      "total.make_spectrum().plot(high=8000)"
     ],
     "language": "python",
     "metadata": {},
     "outputs": []
    },
    {
     "cell_type": "code",
     "collapsed": false,
     "input": [
      "sawtooth.make_spectrum().plot(high=500, color='0.7')\n",
      "\n",
      "segment = total.segment(duration=0.2)\n",
      "segment.make_spectrum().plot(high=1000)\n",
      "thinkplot.config(xlabel='frequency (Hz)', ylabel='amplitude')"
     ],
     "language": "python",
     "metadata": {},
     "outputs": []
    },
    {
     "cell_type": "code",
     "collapsed": false,
     "input": [
      "convolved = sawtooth * response\n",
      "convolved.normalize()\n",
      "convolved.make_audio()"
     ],
     "language": "python",
     "metadata": {},
     "outputs": []
    },
    {
     "cell_type": "code",
     "collapsed": false,
     "input": [
      "convolved2 = violin * response\n",
      "convolved2.normalize()\n",
      "convolved2.make_audio()"
     ],
     "language": "python",
     "metadata": {},
     "outputs": []
    },
    {
     "cell_type": "code",
     "collapsed": false,
     "input": [
      "impulse = numpy.zeros(8)\n",
      "impulse[0] = 1\n",
      "print(impulse)"
     ],
     "language": "python",
     "metadata": {},
     "outputs": []
    },
    {
     "cell_type": "code",
     "collapsed": false,
     "input": [
      "spectrum = numpy.fft.fft(impulse)\n",
      "print(spectrum)"
     ],
     "language": "python",
     "metadata": {},
     "outputs": []
    },
    {
     "cell_type": "code",
     "collapsed": false,
     "input": [
      "numpy.sum(numpy.absolute(signal)**2)"
     ],
     "language": "python",
     "metadata": {},
     "outputs": []
    },
    {
     "cell_type": "code",
     "collapsed": false,
     "input": [
      "numpy.sum(numpy.absolute(spectrum)**2)"
     ],
     "language": "python",
     "metadata": {},
     "outputs": []
    },
    {
     "cell_type": "code",
     "collapsed": false,
     "input": [
      "window = numpy.array([0.5, 0.5, 0, 0, 0, 0, 0, 0,])"
     ],
     "language": "python",
     "metadata": {},
     "outputs": []
    },
    {
     "cell_type": "code",
     "collapsed": false,
     "input": [
      "filtr = scipy.fftpack.fft(window)\n",
      "filtr"
     ],
     "language": "python",
     "metadata": {},
     "outputs": []
    },
    {
     "cell_type": "code",
     "collapsed": false,
     "input": [
      "numpy.absolute(filtr)"
     ],
     "language": "python",
     "metadata": {},
     "outputs": []
    },
    {
     "cell_type": "code",
     "collapsed": false,
     "input": [
      "rolled = numpy.roll(filtr, 3)\n",
      "thinkplot.plot(rolled)"
     ],
     "language": "python",
     "metadata": {},
     "outputs": []
    },
    {
     "cell_type": "code",
     "collapsed": false,
     "input": [
      "product = spectrum * filtr\n",
      "print(product)"
     ],
     "language": "python",
     "metadata": {},
     "outputs": []
    },
    {
     "cell_type": "code",
     "collapsed": false,
     "input": [
      "filtered = scipy.fftpack.ifft(product)\n",
      "thinkplot.plot(filtered)"
     ],
     "language": "python",
     "metadata": {},
     "outputs": []
    },
    {
     "cell_type": "code",
     "collapsed": false,
     "input": [
      "print(filtered.real)"
     ],
     "language": "python",
     "metadata": {},
     "outputs": []
    },
    {
     "cell_type": "code",
     "collapsed": false,
     "input": [
      "reload(thinkdsp)\n",
      "wave = thinkdsp.read_wave('Factory Hall/Factory Hall/Factory Hall.wav')\n",
      "wave.make_audio()"
     ],
     "language": "python",
     "metadata": {},
     "outputs": []
    },
    {
     "cell_type": "code",
     "collapsed": false,
     "input": [
      "segment=wave.segment(start=1.1, duration=0.5)\n",
      "segment.unbias()\n",
      "segment.normalize()\n",
      "segment.plot()\n",
      "segment.make_audio()"
     ],
     "language": "python",
     "metadata": {},
     "outputs": []
    },
    {
     "cell_type": "code",
     "collapsed": false,
     "input": [
      "spectrum = segment.make_spectrum()\n",
      "spectrum.plot(high=5000)"
     ],
     "language": "python",
     "metadata": {},
     "outputs": []
    },
    {
     "cell_type": "code",
     "collapsed": false,
     "input": [
      "spectrum.plot()\n",
      "thinkplot.config(xscale='log', yscale='log', ylim=[1e-1, 3e3], legend=False)"
     ],
     "language": "python",
     "metadata": {},
     "outputs": []
    },
    {
     "cell_type": "code",
     "collapsed": false,
     "input": [],
     "language": "python",
     "metadata": {},
     "outputs": []
    },
    {
     "cell_type": "code",
     "collapsed": false,
     "input": [
      "a.reshape(3,4)"
     ],
     "language": "python",
     "metadata": {},
     "outputs": []
    },
    {
     "cell_type": "code",
     "collapsed": false,
     "input": [
      "b = numpy.zeros((4,4))"
     ],
     "language": "python",
     "metadata": {},
     "outputs": []
    },
    {
     "cell_type": "code",
     "collapsed": false,
     "input": [
      "b[1:, :] = a.reshape(3,4)"
     ],
     "language": "python",
     "metadata": {},
     "outputs": []
    },
    {
     "cell_type": "code",
     "collapsed": false,
     "input": [
      "b"
     ],
     "language": "python",
     "metadata": {},
     "outputs": []
    },
    {
     "cell_type": "code",
     "collapsed": false,
     "input": [
      "b.reshape(16)"
     ],
     "language": "python",
     "metadata": {},
     "outputs": []
    },
    {
     "cell_type": "code",
     "collapsed": false,
     "input": [
      "from wave import open as open_wave\n",
      "\n",
      "\n",
      "filename = 'Factory Hall/Factory Hall/Factory Hall.wav'\n",
      "fp = open_wave(filename, 'r')\n",
      "\n",
      "nchannels = fp.getnchannels()\n",
      "nframes = fp.getnframes()\n",
      "sampwidth = fp.getsampwidth()\n",
      "framerate = fp.getframerate()\n",
      "    \n",
      "z_str = fp.readframes(nframes)\n",
      "    \n",
      "fp.close()\n"
     ],
     "language": "python",
     "metadata": {},
     "outputs": []
    },
    {
     "cell_type": "code",
     "collapsed": false,
     "input": [
      "ys = numpy.fromstring(z_str, dtype=numpy.uint8)"
     ],
     "language": "python",
     "metadata": {},
     "outputs": []
    },
    {
     "cell_type": "code",
     "collapsed": false,
     "input": [
      "ys"
     ],
     "language": "python",
     "metadata": {},
     "outputs": []
    },
    {
     "cell_type": "code",
     "collapsed": false,
     "input": [
      "ws = numpy.fromstring(z_str, dtype=numpy.int8)\n",
      "n = len(ws) // 3\n",
      "xs = ws.reshape(n, 3).astype(numpy.int32)\n",
      "ys = (xs[:, 0] * 256 + xs[:, 1]) * 256 + xs[:, 2]\n",
      "ys"
     ],
     "language": "python",
     "metadata": {},
     "outputs": []
    },
    {
     "cell_type": "code",
     "collapsed": false,
     "input": [
      "xs = numpy.fromstring(z_str, dtype=numpy.int8).astype(numpy.int32)\n",
      "ys = (xs[0::3] * 256 + xs[1::3]) * 256 + xs[2::3]\n",
      "ys"
     ],
     "language": "python",
     "metadata": {},
     "outputs": []
    },
    {
     "cell_type": "code",
     "collapsed": false,
     "input": [],
     "language": "python",
     "metadata": {},
     "outputs": []
    }
   ],
   "metadata": {}
  }
 ]
}