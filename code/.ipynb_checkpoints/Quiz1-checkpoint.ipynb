{
 "metadata": {
  "name": "",
  "signature": "sha256:a2de3a4e2d288989d9e185f6c97e1ede13b651369129e45740da3bbe2530d5ce"
 },
 "nbformat": 3,
 "nbformat_minor": 0,
 "worksheets": []
}