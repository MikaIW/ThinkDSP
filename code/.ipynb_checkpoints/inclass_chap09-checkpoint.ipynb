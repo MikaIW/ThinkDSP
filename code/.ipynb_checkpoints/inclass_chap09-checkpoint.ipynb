{
 "metadata": {
  "name": "",
  "signature": "sha256:f53268f5decbdfad5754e2af012baf76963d82a3c7f86acb387d180ccb624dcc"
 },
 "nbformat": 3,
 "nbformat_minor": 0,
 "worksheets": [
  {
   "cells": [
    {
     "cell_type": "code",
     "collapsed": false,
     "input": [
      "from __future__ import print_function, division\n",
      "\n",
      "import thinkdsp\n",
      "import thinkplot\n",
      "import thinkstats2\n",
      "import math\n",
      "import numpy\n",
      "\n",
      "%precision 3\n",
      "%matplotlib inline\n",
      "\n",
      "PI2 = 2 * math.pi\n",
      "i = complex(0, 1)"
     ],
     "language": "python",
     "metadata": {},
     "outputs": [],
     "prompt_number": 1
    },
    {
     "cell_type": "code",
     "collapsed": false,
     "input": [
      "def dft(ys):\n",
      "    N = len(ys)\n",
      "    ts = numpy.arange(N) / N\n",
      "    freqs = numpy.arange(N)\n",
      "    args = numpy.outer(ts, freqs)\n",
      "    M = numpy.exp(i * PI2 * args)\n",
      "    amps = M.conj().transpose().dot(ys)\n",
      "    return amps"
     ],
     "language": "python",
     "metadata": {},
     "outputs": [],
     "prompt_number": 2
    },
    {
     "cell_type": "code",
     "collapsed": false,
     "input": [
      "def idft(amps):\n",
      "    ys = dft(amps) / N\n",
      "    return ys"
     ],
     "language": "python",
     "metadata": {},
     "outputs": []
    },
    {
     "cell_type": "code",
     "collapsed": false,
     "input": [
      "def Dt(f):\n",
      "    step1 = dft(f) # first, take the DFT\n",
      "    step2 = step1*PI2*i*freqs # then multiply by 2*pi*i*f\n",
      "    step3 = idft(step2) # finally, take the IDFT\n",
      "    return step3"
     ],
     "language": "python",
     "metadata": {},
     "outputs": [],
     "prompt_number": 3
    },
    {
     "cell_type": "markdown",
     "metadata": {},
     "source": [
      "Differentiation Operator: (Allen's version of what I tried to do above)"
     ]
    },
    {
     "cell_type": "code",
     "collapsed": false,
     "input": [
      "wave = thinkdsp.UncorrelatedGaussianNoise().make_wave()\n",
      "spectrum = wave.make_spectrum()\n",
      "factors = PI2*i*spectrum.fs\n",
      "spectrum.hs *= factors\n",
      "diff = spectrum.make_wave()"
     ],
     "language": "python",
     "metadata": {},
     "outputs": [],
     "prompt_number": 9
    },
    {
     "cell_type": "code",
     "collapsed": false,
     "input": [],
     "language": "python",
     "metadata": {},
     "outputs": []
    }
   ],
   "metadata": {}
  }
 ]
}