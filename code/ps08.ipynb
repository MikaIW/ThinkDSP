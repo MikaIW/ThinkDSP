{
 "metadata": {
  "name": "",
  "signature": "sha256:0d5cdfd9f54c9634cdcfb95f609d1957d1481c6c07380ab2199dd31f6c2e712d"
 },
 "nbformat": 3,
 "nbformat_minor": 0,
 "worksheets": [
  {
   "cells": [
    {
     "cell_type": "code",
     "collapsed": false,
     "input": [
      "from __future__ import print_function\n",
      "import numpy as np\n",
      "import matplotlib.pyplot as plt\n",
      "import cmath\n",
      "j = complex(0, 1)"
     ],
     "language": "python",
     "metadata": {},
     "outputs": [],
     "prompt_number": 1
    },
    {
     "cell_type": "heading",
     "level": 4,
     "metadata": {},
     "source": [
      "C = $10^{-7}$ F, L = $10^{-2}$H, R = 400$\\Omega$"
     ]
    },
    {
     "cell_type": "code",
     "collapsed": false,
     "input": [
      "w = np.linspace(1, 1000000, 10000000)"
     ],
     "language": "python",
     "metadata": {},
     "outputs": [],
     "prompt_number": 2
    },
    {
     "cell_type": "code",
     "collapsed": false,
     "input": [
      "mag = 1/np.sqrt(1e-18*w**4 - 0.4e-9*w**2 + 1)"
     ],
     "language": "python",
     "metadata": {},
     "outputs": [],
     "prompt_number": 3
    },
    {
     "cell_type": "code",
     "collapsed": false,
     "input": [
      "omega = -np.arctan(4e-5*w/(1-1e-9*w**2))\n",
      "#omegas = []\n",
      "#for W in w:\n",
      "#    omega = cmath.phase(4e-5*W*1j/(1-1e-9*W**2))\n",
      "#    omegas.append(omega)"
     ],
     "language": "python",
     "metadata": {},
     "outputs": [],
     "prompt_number": 4
    },
    {
     "cell_type": "code",
     "collapsed": false,
     "input": [
      "plt.loglog(w,mag)\n",
      "plt.ylim([0,2])\n",
      "plt.show()"
     ],
     "language": "python",
     "metadata": {},
     "outputs": [],
     "prompt_number": 5
    },
    {
     "cell_type": "code",
     "collapsed": false,
     "input": [
      "plt.semilogx(w,omega)\n",
      "plt.xlim([1e3, 1e6])\n",
      "plt.show()"
     ],
     "language": "python",
     "metadata": {},
     "outputs": [],
     "prompt_number": 8
    },
    {
     "cell_type": "heading",
     "level": 4,
     "metadata": {},
     "source": [
      "C = $10^{-7}$ F, L = $10^{-2}$H, R = 50$\\Omega$"
     ]
    },
    {
     "cell_type": "code",
     "collapsed": false,
     "input": [
      "w2 = np.linspace(1, 1000000, 10000000)"
     ],
     "language": "python",
     "metadata": {},
     "outputs": [],
     "prompt_number": 9
    },
    {
     "cell_type": "code",
     "collapsed": false,
     "input": [
      "mag2 = 1/np.sqrt(1e-18*w**4 - (2.5e-11-2e-9)*w**2 + 1)"
     ],
     "language": "python",
     "metadata": {},
     "outputs": [],
     "prompt_number": 10
    },
    {
     "cell_type": "code",
     "collapsed": false,
     "input": [
      "omega2 = -np.arctan(5e-6*w/(1-1e-9*w**2))\n",
      "#omegas2 = []\n",
      "#for W in w:\n",
      "#    omega2 = cmath.phase(4e-5*W*1j/(1-1e-9*W**2))\n",
      "#    omegas2.append(omega2)"
     ],
     "language": "python",
     "metadata": {},
     "outputs": [],
     "prompt_number": 11
    },
    {
     "cell_type": "code",
     "collapsed": false,
     "input": [
      "plt.loglog(w2,mag2)\n",
      "plt.ylim([0,2])\n",
      "plt.show()"
     ],
     "language": "python",
     "metadata": {},
     "outputs": [],
     "prompt_number": 10
    },
    {
     "cell_type": "code",
     "collapsed": false,
     "input": [
      "plt.semilogx(w2,omega2)\n",
      "plt.xlim([1e3, 1e6])\n",
      "plt.show()"
     ],
     "language": "python",
     "metadata": {},
     "outputs": []
    },
    {
     "cell_type": "code",
     "collapsed": false,
     "input": [],
     "language": "python",
     "metadata": {},
     "outputs": [],
     "prompt_number": 11
    }
   ],
   "metadata": {}
  }
 ]
}