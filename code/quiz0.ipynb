{
 "metadata": {
  "name": "",
  "signature": "sha256:faddb7c9166a1f224a78191a7707ce883e10148299d60630628b0036f44e1f78"
 },
 "nbformat": 3,
 "nbformat_minor": 0,
 "worksheets": [
  {
   "cells": [
    {
     "cell_type": "code",
     "collapsed": false,
     "input": [
      "from __future__ import print_function, division\n",
      "\n",
      "import thinkdsp\n",
      "import thinkplot\n",
      "%matplotlib inline"
     ],
     "language": "python",
     "metadata": {},
     "outputs": [],
     "prompt_number": 4
    },
    {
     "cell_type": "code",
     "collapsed": false,
     "input": [
      "# Synthesizing a Wave\n",
      "\n",
      "cos_sig = thinkdsp.CosSignal(freq=440, amp=1, offset=0)\n",
      "sin_sig = thinkdsp.SinSignal(freq=660, amp=0.5, offset=1)\n",
      "cos_sig2 = thinkdsp.CosSignal(freq=880, amp=0.2, offset=2)\n",
      "\n",
      "# Summing the Signals with Multiples\n",
      "\n",
      "mix = sin_sig + cos_sig + cos_sig2\n",
      "mywave = mix.make_wave(duration=10, start=0, framerate=11025)\n",
      "mywave\n",
      "\n",
      "period = mix.period\n",
      "segment = mywave.segment(start=0, duration=period*100)\n",
      "\n",
      "spectrum = segment.make_spectrum()\n",
      "spectrum.plot()"
     ],
     "language": "python",
     "metadata": {},
     "outputs": [
      {
       "metadata": {},
       "output_type": "display_data",
       "png": "[encoded data removed]",
       "text": [
        "<matplotlib.figure.Figure at 0x7fd697f95590>"
       ]
      }
     ],
     "prompt_number": 13
    },
    {
     "cell_type": "code",
     "collapsed": false,
     "input": [],
     "language": "python",
     "metadata": {},
     "outputs": [],
     "prompt_number": 11
    },
    {
     "cell_type": "code",
     "collapsed": false,
     "input": [],
     "language": "python",
     "metadata": {},
     "outputs": []
    }
   ],
   "metadata": {}
  }
 ]
}